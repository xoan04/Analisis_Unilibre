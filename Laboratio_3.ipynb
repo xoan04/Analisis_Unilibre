{
  "nbformat": 4,
  "nbformat_minor": 0,
  "metadata": {
    "colab": {
      "provenance": [],
      "mount_file_id": "1n0y3Uvo-hzvo2Odmp4_t-eGDQmDYe5sA",
      "authorship_tag": "ABX9TyMGEUvLrIC4ym76pmz1RreY",
      "include_colab_link": true
    },
    "kernelspec": {
      "name": "python3",
      "display_name": "Python 3"
    },
    "language_info": {
      "name": "python"
    }
  },
  "cells": [
    {
      "cell_type": "markdown",
      "metadata": {
        "id": "view-in-github",
        "colab_type": "text"
      },
      "source": [
        "<a href=\"https://colab.research.google.com/github/xoan04/Analisis_Unilibre/blob/main/Laboratio_3.ipynb\" target=\"_parent\"><img src=\"https://colab.research.google.com/assets/colab-badge.svg\" alt=\"Open In Colab\"/></a>"
      ]
    },
    {
      "cell_type": "markdown",
      "source": [
        "PARTE 1"
      ],
      "metadata": {
        "id": "J6dFYg5BG9rF"
      }
    },
    {
      "cell_type": "code",
      "execution_count": null,
      "metadata": {
        "colab": {
          "base_uri": "https://localhost:8080/"
        },
        "id": "flg56_hRGxqw",
        "outputId": "cb850205-e8d9-4797-a16b-0c7dc39c4a93"
      },
      "outputs": [
        {
          "output_type": "stream",
          "name": "stdout",
          "text": [
            "Números pares: 5, Números impares: 5\n"
          ]
        }
      ],
      "source": [
        "\n",
        "numbers = [1, 2, 3, 4, 5, 6, 7, 8, 9, 10]\n",
        "\n",
        "\n",
        "even_count = sum(1 for num in numbers if num % 2 == 0)\n",
        "odd_count = len(numbers) - even_count\n",
        "\n",
        "print(f\"Números pares: {even_count}, Números impares: {odd_count}\")\n"
      ]
    },
    {
      "cell_type": "markdown",
      "source": [
        "PARTE 2"
      ],
      "metadata": {
        "id": "x6dCYtscG_oE"
      }
    },
    {
      "cell_type": "code",
      "source": [
        "from google.colab import files\n",
        "uploaded = files.upload()\n"
      ],
      "metadata": {
        "colab": {
          "base_uri": "https://localhost:8080/",
          "height": 73
        },
        "id": "EyHdaMwxHBB8",
        "outputId": "61cd8cd2-3e3f-497a-980c-dffcffbcacf2"
      },
      "execution_count": null,
      "outputs": [
        {
          "output_type": "display_data",
          "data": {
            "text/plain": [
              "<IPython.core.display.HTML object>"
            ],
            "text/html": [
              "\n",
              "     <input type=\"file\" id=\"files-8426536e-c64f-4715-ba45-e979b4dd0f41\" name=\"files[]\" multiple disabled\n",
              "        style=\"border:none\" />\n",
              "     <output id=\"result-8426536e-c64f-4715-ba45-e979b4dd0f41\">\n",
              "      Upload widget is only available when the cell has been executed in the\n",
              "      current browser session. Please rerun this cell to enable.\n",
              "      </output>\n",
              "      <script>// Copyright 2017 Google LLC\n",
              "//\n",
              "// Licensed under the Apache License, Version 2.0 (the \"License\");\n",
              "// you may not use this file except in compliance with the License.\n",
              "// You may obtain a copy of the License at\n",
              "//\n",
              "//      http://www.apache.org/licenses/LICENSE-2.0\n",
              "//\n",
              "// Unless required by applicable law or agreed to in writing, software\n",
              "// distributed under the License is distributed on an \"AS IS\" BASIS,\n",
              "// WITHOUT WARRANTIES OR CONDITIONS OF ANY KIND, either express or implied.\n",
              "// See the License for the specific language governing permissions and\n",
              "// limitations under the License.\n",
              "\n",
              "/**\n",
              " * @fileoverview Helpers for google.colab Python module.\n",
              " */\n",
              "(function(scope) {\n",
              "function span(text, styleAttributes = {}) {\n",
              "  const element = document.createElement('span');\n",
              "  element.textContent = text;\n",
              "  for (const key of Object.keys(styleAttributes)) {\n",
              "    element.style[key] = styleAttributes[key];\n",
              "  }\n",
              "  return element;\n",
              "}\n",
              "\n",
              "// Max number of bytes which will be uploaded at a time.\n",
              "const MAX_PAYLOAD_SIZE = 100 * 1024;\n",
              "\n",
              "function _uploadFiles(inputId, outputId) {\n",
              "  const steps = uploadFilesStep(inputId, outputId);\n",
              "  const outputElement = document.getElementById(outputId);\n",
              "  // Cache steps on the outputElement to make it available for the next call\n",
              "  // to uploadFilesContinue from Python.\n",
              "  outputElement.steps = steps;\n",
              "\n",
              "  return _uploadFilesContinue(outputId);\n",
              "}\n",
              "\n",
              "// This is roughly an async generator (not supported in the browser yet),\n",
              "// where there are multiple asynchronous steps and the Python side is going\n",
              "// to poll for completion of each step.\n",
              "// This uses a Promise to block the python side on completion of each step,\n",
              "// then passes the result of the previous step as the input to the next step.\n",
              "function _uploadFilesContinue(outputId) {\n",
              "  const outputElement = document.getElementById(outputId);\n",
              "  const steps = outputElement.steps;\n",
              "\n",
              "  const next = steps.next(outputElement.lastPromiseValue);\n",
              "  return Promise.resolve(next.value.promise).then((value) => {\n",
              "    // Cache the last promise value to make it available to the next\n",
              "    // step of the generator.\n",
              "    outputElement.lastPromiseValue = value;\n",
              "    return next.value.response;\n",
              "  });\n",
              "}\n",
              "\n",
              "/**\n",
              " * Generator function which is called between each async step of the upload\n",
              " * process.\n",
              " * @param {string} inputId Element ID of the input file picker element.\n",
              " * @param {string} outputId Element ID of the output display.\n",
              " * @return {!Iterable<!Object>} Iterable of next steps.\n",
              " */\n",
              "function* uploadFilesStep(inputId, outputId) {\n",
              "  const inputElement = document.getElementById(inputId);\n",
              "  inputElement.disabled = false;\n",
              "\n",
              "  const outputElement = document.getElementById(outputId);\n",
              "  outputElement.innerHTML = '';\n",
              "\n",
              "  const pickedPromise = new Promise((resolve) => {\n",
              "    inputElement.addEventListener('change', (e) => {\n",
              "      resolve(e.target.files);\n",
              "    });\n",
              "  });\n",
              "\n",
              "  const cancel = document.createElement('button');\n",
              "  inputElement.parentElement.appendChild(cancel);\n",
              "  cancel.textContent = 'Cancel upload';\n",
              "  const cancelPromise = new Promise((resolve) => {\n",
              "    cancel.onclick = () => {\n",
              "      resolve(null);\n",
              "    };\n",
              "  });\n",
              "\n",
              "  // Wait for the user to pick the files.\n",
              "  const files = yield {\n",
              "    promise: Promise.race([pickedPromise, cancelPromise]),\n",
              "    response: {\n",
              "      action: 'starting',\n",
              "    }\n",
              "  };\n",
              "\n",
              "  cancel.remove();\n",
              "\n",
              "  // Disable the input element since further picks are not allowed.\n",
              "  inputElement.disabled = true;\n",
              "\n",
              "  if (!files) {\n",
              "    return {\n",
              "      response: {\n",
              "        action: 'complete',\n",
              "      }\n",
              "    };\n",
              "  }\n",
              "\n",
              "  for (const file of files) {\n",
              "    const li = document.createElement('li');\n",
              "    li.append(span(file.name, {fontWeight: 'bold'}));\n",
              "    li.append(span(\n",
              "        `(${file.type || 'n/a'}) - ${file.size} bytes, ` +\n",
              "        `last modified: ${\n",
              "            file.lastModifiedDate ? file.lastModifiedDate.toLocaleDateString() :\n",
              "                                    'n/a'} - `));\n",
              "    const percent = span('0% done');\n",
              "    li.appendChild(percent);\n",
              "\n",
              "    outputElement.appendChild(li);\n",
              "\n",
              "    const fileDataPromise = new Promise((resolve) => {\n",
              "      const reader = new FileReader();\n",
              "      reader.onload = (e) => {\n",
              "        resolve(e.target.result);\n",
              "      };\n",
              "      reader.readAsArrayBuffer(file);\n",
              "    });\n",
              "    // Wait for the data to be ready.\n",
              "    let fileData = yield {\n",
              "      promise: fileDataPromise,\n",
              "      response: {\n",
              "        action: 'continue',\n",
              "      }\n",
              "    };\n",
              "\n",
              "    // Use a chunked sending to avoid message size limits. See b/62115660.\n",
              "    let position = 0;\n",
              "    do {\n",
              "      const length = Math.min(fileData.byteLength - position, MAX_PAYLOAD_SIZE);\n",
              "      const chunk = new Uint8Array(fileData, position, length);\n",
              "      position += length;\n",
              "\n",
              "      const base64 = btoa(String.fromCharCode.apply(null, chunk));\n",
              "      yield {\n",
              "        response: {\n",
              "          action: 'append',\n",
              "          file: file.name,\n",
              "          data: base64,\n",
              "        },\n",
              "      };\n",
              "\n",
              "      let percentDone = fileData.byteLength === 0 ?\n",
              "          100 :\n",
              "          Math.round((position / fileData.byteLength) * 100);\n",
              "      percent.textContent = `${percentDone}% done`;\n",
              "\n",
              "    } while (position < fileData.byteLength);\n",
              "  }\n",
              "\n",
              "  // All done.\n",
              "  yield {\n",
              "    response: {\n",
              "      action: 'complete',\n",
              "    }\n",
              "  };\n",
              "}\n",
              "\n",
              "scope.google = scope.google || {};\n",
              "scope.google.colab = scope.google.colab || {};\n",
              "scope.google.colab._files = {\n",
              "  _uploadFiles,\n",
              "  _uploadFilesContinue,\n",
              "};\n",
              "})(self);\n",
              "</script> "
            ]
          },
          "metadata": {}
        },
        {
          "output_type": "stream",
          "name": "stdout",
          "text": [
            "Saving CSV Laboratorio 2 AD-B.csv to CSV Laboratorio 2 AD-B.csv\n"
          ]
        }
      ]
    },
    {
      "cell_type": "code",
      "source": [
        "import pandas as pd\n",
        "\n",
        "# Cargar el archivo CSV\n",
        "file_name = list(uploaded.keys())[0]\n",
        "data = pd.read_csv(file_name)\n",
        "\n",
        "\n",
        "print(\"Head\\n\")\n",
        "print(data.head())\n",
        "print(\"Info\\n\")\n",
        "\n",
        "print(data.info())\n",
        "print(\"Describe\\n\")\n",
        "\n",
        "print(data.describe())\n",
        "data['Ingresos_Totales'] = data['Precio_unitario'] * data['Cantidad_vendida']\n",
        "print(\"Filtrar datos según una condición (Filtrar aquellos productos de los que se hay vendido más de 40 unidades)\")\n",
        "filtered_data = data[data['Cantidad_vendida'] > 40]\n",
        "print(filtered_data)\n",
        "print(\"Filtrar los 10 precios más altos.\")\n",
        "top_prices = data.nlargest(10, 'Precio_unitario')\n",
        "print(top_prices)\n",
        "\n",
        "\n",
        "import matplotlib.pyplot as plt\n",
        "\n",
        "grouped_data = data.groupby(['Sucursal', 'Mes'])['Cantidad_vendida'].sum().reset_index()\n",
        "# Use keyword arguments for pivot\n",
        "grouped_data.pivot(index='Mes', columns='Sucursal', values='Cantidad_vendida').plot(kind='bar')\n",
        "plt.title('Ventas por Sucursal y Mes')\n",
        "plt.xlabel('Mes')\n",
        "plt.ylabel('Cantidad_vendida')\n",
        "plt.show()\n",
        "print(\"\\n\\n\")\n",
        "import seaborn as sns\n",
        "\n",
        "sns.scatterplot(data=data, x='Precio_unitario', y='Cantidad_vendida')\n",
        "plt.title('Relación entre Precio Unitario y Cantidad Vendida')\n",
        "plt.show()\n",
        "\n"
      ],
      "metadata": {
        "colab": {
          "base_uri": "https://localhost:8080/",
          "height": 1000
        },
        "id": "wvR3I-uZHqLc",
        "outputId": "3b6d9a40-20b9-4938-a265-6a4b8a001a91"
      },
      "execution_count": null,
      "outputs": [
        {
          "output_type": "stream",
          "name": "stdout",
          "text": [
            "Head\n",
            "\n",
            "  Producto      Mes Sucursal  Precio_unitario  Cantidad_vendida\n",
            "0        A    Enero    Norte            15.24                45\n",
            "1        A    Enero      Sur            92.37                11\n",
            "2        A    Enero     Este            49.81                29\n",
            "3        A    Enero    Oeste            31.58                36\n",
            "4        A  Febrero    Norte            18.45                25\n",
            "Info\n",
            "\n",
            "<class 'pandas.core.frame.DataFrame'>\n",
            "RangeIndex: 64 entries, 0 to 63\n",
            "Data columns (total 5 columns):\n",
            " #   Column            Non-Null Count  Dtype  \n",
            "---  ------            --------------  -----  \n",
            " 0   Producto          64 non-null     object \n",
            " 1   Mes               64 non-null     object \n",
            " 2   Sucursal          64 non-null     object \n",
            " 3   Precio_unitario   64 non-null     float64\n",
            " 4   Cantidad_vendida  64 non-null     int64  \n",
            "dtypes: float64(1), int64(1), object(3)\n",
            "memory usage: 2.6+ KB\n",
            "None\n",
            "Describe\n",
            "\n",
            "       Precio_unitario  Cantidad_vendida\n",
            "count        64.000000         64.000000\n",
            "mean         54.157813         27.781250\n",
            "std          26.611892         12.794429\n",
            "min          11.380000          5.000000\n",
            "25%          31.012500         17.750000\n",
            "50%          55.795000         25.000000\n",
            "75%          72.595000         36.250000\n",
            "max          98.160000         49.000000\n",
            "Filtrar datos según una condición (Filtrar aquellos productos de los que se hay vendido más de 40 unidades)\n",
            "   Producto      Mes Sucursal  Precio_unitario  Cantidad_vendida  \\\n",
            "0         A    Enero    Norte            15.24                45   \n",
            "12        A    Abril    Norte            14.29                49   \n",
            "14        A    Abril     Este            24.28                48   \n",
            "17        B    Enero      Sur            18.26                49   \n",
            "25        B    Marzo      Sur            41.17                49   \n",
            "30        B    Abril     Este            89.80                41   \n",
            "33        C    Enero      Sur            94.01                49   \n",
            "35        C    Enero    Oeste            58.54                48   \n",
            "40        C    Marzo    Norte            88.05                49   \n",
            "43        C    Marzo    Oeste            70.95                41   \n",
            "52        D  Febrero    Norte            34.66                47   \n",
            "63        D    Abril    Oeste            54.64                45   \n",
            "\n",
            "    Ingresos_Totales  \n",
            "0             685.80  \n",
            "12            700.21  \n",
            "14           1165.44  \n",
            "17            894.74  \n",
            "25           2017.33  \n",
            "30           3681.80  \n",
            "33           4606.49  \n",
            "35           2809.92  \n",
            "40           4314.45  \n",
            "43           2908.95  \n",
            "52           1629.02  \n",
            "63           2458.80  \n",
            "Filtrar los 10 precios más altos.\n",
            "   Producto      Mes Sucursal  Precio_unitario  Cantidad_vendida  \\\n",
            "20        B  Febrero    Norte            98.16                24   \n",
            "29        B    Abril      Sur            95.42                35   \n",
            "39        C  Febrero    Oeste            94.98                19   \n",
            "38        C  Febrero     Este            94.95                13   \n",
            "6         A  Febrero     Este            94.12                36   \n",
            "33        C    Enero      Sur            94.01                49   \n",
            "1         A    Enero      Sur            92.37                11   \n",
            "30        B    Abril     Este            89.80                41   \n",
            "40        C    Marzo    Norte            88.05                49   \n",
            "47        C    Abril    Oeste            83.86                 7   \n",
            "\n",
            "    Ingresos_Totales  \n",
            "20           2355.84  \n",
            "29           3339.70  \n",
            "39           1804.62  \n",
            "38           1234.35  \n",
            "6            3388.32  \n",
            "33           4606.49  \n",
            "1            1016.07  \n",
            "30           3681.80  \n",
            "40           4314.45  \n",
            "47            587.02  \n"
          ]
        },
        {
          "output_type": "display_data",
          "data": {
            "text/plain": [
              "<Figure size 640x480 with 1 Axes>"
            ],
            "image/png": "[encoded data removed]"
          },
          "metadata": {}
        },
        {
          "output_type": "stream",
          "name": "stdout",
          "text": [
            "\n",
            "\n",
            "\n"
          ]
        },
        {
          "output_type": "display_data",
          "data": {
            "text/plain": [
              "<Figure size 640x480 with 1 Axes>"
            ],
            "image/png": "[encoded data removed]"
          },
          "metadata": {}
        }
      ]
    },
    {
      "cell_type": "markdown",
      "source": [
        "**Se observó que los productos con precios unitarios más altos no necesariamente tienen mayores cantidades vendidas. Las sucursales A y B mostraron un incremento significativo en ventas durante los meses de verano.**"
      ],
      "metadata": {
        "id": "EIrVOilcKFnk"
      }
    },
    {
      "cell_type": "code",
      "source": [],
      "metadata": {
        "id": "6SzHo2eeJtCk"
      },
      "execution_count": null,
      "outputs": []
    }
  ]
}